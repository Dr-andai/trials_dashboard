{
 "cells": [
  {
   "cell_type": "code",
   "execution_count": 5,
   "metadata": {},
   "outputs": [],
   "source": [
    "import pandas as pd\n",
    "import numpy as np\n",
    "import os"
   ]
  },
  {
   "cell_type": "code",
   "execution_count": 6,
   "metadata": {},
   "outputs": [],
   "source": [
    "# set up directory paths\n",
    "RAW_DATA_DIR = '../data/raw/'\n",
    "PROCESSED_DATA_DIR = '../data/processed/'\n",
    "\n",
    "aact_data_path = 'aact_folder/aact_data'\n",
    "author_publications = 'scholarly/authors_published_03.csv'"
   ]
  },
  {
   "cell_type": "code",
   "execution_count": 7,
   "metadata": {},
   "outputs": [],
   "source": [
    "aact_df = pd.read_csv(os.path.join(RAW_DATA_DIR, aact_data_path))"
   ]
  },
  {
   "cell_type": "code",
   "execution_count": 8,
   "metadata": {},
   "outputs": [
    {
     "data": {
      "text/html": [
       "<div>\n",
       "<style scoped>\n",
       "    .dataframe tbody tr th:only-of-type {\n",
       "        vertical-align: middle;\n",
       "    }\n",
       "\n",
       "    .dataframe tbody tr th {\n",
       "        vertical-align: top;\n",
       "    }\n",
       "\n",
       "    .dataframe thead th {\n",
       "        text-align: right;\n",
       "    }\n",
       "</style>\n",
       "<table border=\"1\" class=\"dataframe\">\n",
       "  <thead>\n",
       "    <tr style=\"text-align: right;\">\n",
       "      <th></th>\n",
       "      <th>nct_id</th>\n",
       "      <th>first_date</th>\n",
       "      <th>facility_name</th>\n",
       "      <th>city</th>\n",
       "      <th>investigator</th>\n",
       "      <th>investigator_role</th>\n",
       "      <th>sponsor_name</th>\n",
       "      <th>lead_or_collaborator</th>\n",
       "      <th>downcase_name</th>\n",
       "      <th>description</th>\n",
       "    </tr>\n",
       "  </thead>\n",
       "  <tbody>\n",
       "    <tr>\n",
       "      <th>0</th>\n",
       "      <td>NCT06165614</td>\n",
       "      <td>2023-11-21</td>\n",
       "      <td>Lumumba Sub-County Hospital</td>\n",
       "      <td>Kisumu</td>\n",
       "      <td>Jackton Omoto, MD</td>\n",
       "      <td>Principal Investigator</td>\n",
       "      <td>UNC Lineberger Comprehensive Cancer Center</td>\n",
       "      <td>lead</td>\n",
       "      <td>cervix cancer</td>\n",
       "      <td>(37275751,NCT06165614,\"Despite being preventab...</td>\n",
       "    </tr>\n",
       "    <tr>\n",
       "      <th>1</th>\n",
       "      <td>NCT06165614</td>\n",
       "      <td>2023-11-21</td>\n",
       "      <td>Lumumba Sub-County Hospital</td>\n",
       "      <td>Kisumu</td>\n",
       "      <td>Jackton Omoto, MD</td>\n",
       "      <td>Principal Investigator</td>\n",
       "      <td>Gilead Sciences</td>\n",
       "      <td>collaborator</td>\n",
       "      <td>cervical precancer</td>\n",
       "      <td>(37275751,NCT06165614,\"Despite being preventab...</td>\n",
       "    </tr>\n",
       "    <tr>\n",
       "      <th>2</th>\n",
       "      <td>NCT06165614</td>\n",
       "      <td>2023-11-21</td>\n",
       "      <td>Lumumba Sub-County Hospital</td>\n",
       "      <td>Kisumu</td>\n",
       "      <td>Jackton Omoto, MD</td>\n",
       "      <td>Principal Investigator</td>\n",
       "      <td>Gilead Sciences</td>\n",
       "      <td>collaborator</td>\n",
       "      <td>precancerous conditions</td>\n",
       "      <td>(37275751,NCT06165614,\"Despite being preventab...</td>\n",
       "    </tr>\n",
       "    <tr>\n",
       "      <th>3</th>\n",
       "      <td>NCT06165614</td>\n",
       "      <td>2023-11-21</td>\n",
       "      <td>Lumumba Sub-County Hospital</td>\n",
       "      <td>Kisumu</td>\n",
       "      <td>Jackton Omoto, MD</td>\n",
       "      <td>Principal Investigator</td>\n",
       "      <td>Gilead Sciences</td>\n",
       "      <td>collaborator</td>\n",
       "      <td>cervix neoplasm</td>\n",
       "      <td>(37275751,NCT06165614,\"Despite being preventab...</td>\n",
       "    </tr>\n",
       "    <tr>\n",
       "      <th>4</th>\n",
       "      <td>NCT06165614</td>\n",
       "      <td>2023-11-21</td>\n",
       "      <td>Lumumba Sub-County Hospital</td>\n",
       "      <td>Kisumu</td>\n",
       "      <td>Jackton Omoto, MD</td>\n",
       "      <td>Principal Investigator</td>\n",
       "      <td>Gilead Sciences</td>\n",
       "      <td>collaborator</td>\n",
       "      <td>cervix cancer</td>\n",
       "      <td>(37275751,NCT06165614,\"Despite being preventab...</td>\n",
       "    </tr>\n",
       "  </tbody>\n",
       "</table>\n",
       "</div>"
      ],
      "text/plain": [
       "        nct_id  first_date                facility_name    city  \\\n",
       "0  NCT06165614  2023-11-21  Lumumba Sub-County Hospital  Kisumu   \n",
       "1  NCT06165614  2023-11-21  Lumumba Sub-County Hospital  Kisumu   \n",
       "2  NCT06165614  2023-11-21  Lumumba Sub-County Hospital  Kisumu   \n",
       "3  NCT06165614  2023-11-21  Lumumba Sub-County Hospital  Kisumu   \n",
       "4  NCT06165614  2023-11-21  Lumumba Sub-County Hospital  Kisumu   \n",
       "\n",
       "        investigator       investigator_role  \\\n",
       "0  Jackton Omoto, MD  Principal Investigator   \n",
       "1  Jackton Omoto, MD  Principal Investigator   \n",
       "2  Jackton Omoto, MD  Principal Investigator   \n",
       "3  Jackton Omoto, MD  Principal Investigator   \n",
       "4  Jackton Omoto, MD  Principal Investigator   \n",
       "\n",
       "                                 sponsor_name lead_or_collaborator  \\\n",
       "0  UNC Lineberger Comprehensive Cancer Center                 lead   \n",
       "1                             Gilead Sciences         collaborator   \n",
       "2                             Gilead Sciences         collaborator   \n",
       "3                             Gilead Sciences         collaborator   \n",
       "4                             Gilead Sciences         collaborator   \n",
       "\n",
       "             downcase_name                                        description  \n",
       "0            cervix cancer  (37275751,NCT06165614,\"Despite being preventab...  \n",
       "1       cervical precancer  (37275751,NCT06165614,\"Despite being preventab...  \n",
       "2  precancerous conditions  (37275751,NCT06165614,\"Despite being preventab...  \n",
       "3          cervix neoplasm  (37275751,NCT06165614,\"Despite being preventab...  \n",
       "4            cervix cancer  (37275751,NCT06165614,\"Despite being preventab...  "
      ]
     },
     "execution_count": 8,
     "metadata": {},
     "output_type": "execute_result"
    }
   ],
   "source": [
    "aact_df.head()"
   ]
  },
  {
   "cell_type": "code",
   "execution_count": null,
   "metadata": {},
   "outputs": [],
   "source": []
  },
  {
   "cell_type": "code",
   "execution_count": 4,
   "metadata": {},
   "outputs": [],
   "source": [
    "# Retrive investigator details\n",
    "investigator = aact_df.groupby('investigator')[['nct_id','sponsor_name']].first()\n",
    "investigator_df = investigator.reset_index()\n",
    "\n",
    "investigator_df = investigator_df.sort_values(by='nct_id')"
   ]
  },
  {
   "cell_type": "code",
   "execution_count": 5,
   "metadata": {},
   "outputs": [],
   "source": [
    "## CLEAN INVESTIGATOR COLUMN\n",
    "\n",
    "# convert to lower case\n",
    "investigator_df['investigator'] = investigator_df['investigator'].str.lower()\n",
    "\n",
    "# remove periods\n",
    "investigator_df['investigator'] = investigator_df['investigator'].str.replace(r'[.,]', '', regex=True)\n",
    "\n",
    "# reomve titles\n",
    "title_strings = ['md', 'phd', 'mmed', 'dph', 'md','prof', 'dnb','msc','mph','mbchb','mbbs','frcp']\n",
    "regex_pattern = '|'.join(title_strings)\n",
    "\n",
    "investigator_df['investigator']  = investigator_df['investigator'] .str.replace(regex_pattern, '', regex=True).str.strip()"
   ]
  },
  {
   "cell_type": "code",
   "execution_count": 4,
   "metadata": {},
   "outputs": [],
   "source": [
    "# Save Processed Data\n",
    "\n",
    "def save_processed_data(data, data_path):\n",
    "    #create a dir if it does not exist\n",
    "    path = os.path.join(PROCESSED_DATA_DIR, data_path.split('/')[0])\n",
    "    if not os.path.exists(path):\n",
    "        os.makedirs(path)\n",
    "    saved_path = os.path.join(PROCESSED_DATA_DIR, f'{data_path}.csv')\n",
    "    data.to_csv(saved_path, index=False)\n",
    "    \n",
    "    # Get the absolute path\n",
    "    abs_path = os.path.abspath(saved_path)\n",
    "\n",
    "    print(\"Saved to ✅:\", abs_path)"
   ]
  },
  {
   "cell_type": "code",
   "execution_count": 5,
   "metadata": {},
   "outputs": [
    {
     "ename": "NameError",
     "evalue": "name 'investigator_df' is not defined",
     "output_type": "error",
     "traceback": [
      "\u001b[1;31m---------------------------------------------------------------------------\u001b[0m",
      "\u001b[1;31mNameError\u001b[0m                                 Traceback (most recent call last)",
      "Cell \u001b[1;32mIn[5], line 1\u001b[0m\n\u001b[1;32m----> 1\u001b[0m save_processed_data(\u001b[43minvestigator_df\u001b[49m, \u001b[38;5;124m'\u001b[39m\u001b[38;5;124mauthors/author\u001b[39m\u001b[38;5;124m'\u001b[39m)\n",
      "\u001b[1;31mNameError\u001b[0m: name 'investigator_df' is not defined"
     ]
    }
   ],
   "source": [
    "save_processed_data(investigator_df, 'authors/author')"
   ]
  },
  {
   "cell_type": "code",
   "execution_count": 4,
   "metadata": {},
   "outputs": [
    {
     "name": "stdout",
     "output_type": "stream",
     "text": [
      "{'container_type': 'Publication', 'source': <PublicationSource.AUTHOR_PUBLICATION_ENTRY: 'AUTHOR_PUBLICATION_ENTRY'>, 'bib': {'title': 'Menstrual cups and sanitary pads to reduce school attrition, and sexually transmitted and reproductive tract infections: a cluster randomised controlled feasibility study in …', 'pub_year': '2016', 'citation': 'BMJ open 6 (11), e013229, 2016'}, 'filled': False, 'author_pub_id': 'Gp1EC6cAAAAJ:u5HHmVD_uO8C', 'num_citations': 188, 'citedby_url': 'https://scholar.google.com/scholar?oi=bibs&hl=en&cites=731280057985025706', 'cites_id': ['731280057985025706']}\n",
      "{'container_type': 'Publication', 'source': <PublicationSource.AUTHOR_PUBLICATION_ENTRY: 'AUTHOR_PUBLICATION_ENTRY'>, 'bib': {'title': \"Adolescent schoolgirls' experiences of menstrual cups and pads in rural western Kenya: a qualitative study\", 'pub_year': '2015', 'citation': 'Waterlines, 15-30, 2015'}, 'filled': False, 'author_pub_id': 'Gp1EC6cAAAAJ:9yKSN-GCB0IC', 'num_citations': 131, 'citedby_url': 'https://scholar.google.com/scholar?oi=bibs&hl=en&cites=4022737570339783599', 'cites_id': ['4022737570339783599']}\n",
      "{'container_type': 'Publication', 'source': <PublicationSource.AUTHOR_PUBLICATION_ENTRY: 'AUTHOR_PUBLICATION_ENTRY'>, 'bib': {'title': 'An analysis of pregnancy-related mortality in the KEMRI/CDC health and demographic surveillance system in western Kenya', 'pub_year': '2013', 'citation': 'PloS one 8 (7), e68733, 2013'}, 'filled': False, 'author_pub_id': 'Gp1EC6cAAAAJ:u-x6o8ySG0sC', 'num_citations': 86, 'citedby_url': 'https://scholar.google.com/scholar?oi=bibs&hl=en&cites=1482233416080697432', 'cites_id': ['1482233416080697432']}\n",
      "{'container_type': 'Publication', 'source': <PublicationSource.AUTHOR_PUBLICATION_ENTRY: 'AUTHOR_PUBLICATION_ENTRY'>, 'bib': {'title': 'Examining the safety of menstrual cups among rural primary school girls in western Kenya: observational studies nested in a randomised controlled feasibility study', 'pub_year': '2017', 'citation': 'BMJ open 7 (4), e015429, 2017'}, 'filled': False, 'author_pub_id': 'Gp1EC6cAAAAJ:qjMakFHDy7sC', 'num_citations': 62, 'citedby_url': 'https://scholar.google.com/scholar?oi=bibs&hl=en&cites=11217062802270408491', 'cites_id': ['11217062802270408491']}\n",
      "{'container_type': 'Publication', 'source': <PublicationSource.AUTHOR_PUBLICATION_ENTRY: 'AUTHOR_PUBLICATION_ENTRY'>, 'bib': {'title': 'Use of menstrual cups among school girls: longitudinal observations nested in a randomised controlled feasibility study in rural western Kenya', 'pub_year': '2018', 'citation': 'Reproductive health 15, 1-11, 2018'}, 'filled': False, 'author_pub_id': 'Gp1EC6cAAAAJ:2osOgNQ5qMEC', 'num_citations': 59, 'citedby_url': 'https://scholar.google.com/scholar?oi=bibs&hl=en&cites=4304173407646963242', 'cites_id': ['4304173407646963242']}\n",
      "{'container_type': 'Publication', 'source': <PublicationSource.AUTHOR_PUBLICATION_ENTRY: 'AUTHOR_PUBLICATION_ENTRY'>, 'bib': {'title': 'Lay health worker experiences administering a multi-level combination intervention to improve PMTCT retention', 'pub_year': '2018', 'citation': 'BMC health services research 18, 1-13, 2018'}, 'filled': False, 'author_pub_id': 'Gp1EC6cAAAAJ:d1gkVwhDpl0C', 'num_citations': 30, 'citedby_url': 'https://scholar.google.com/scholar?oi=bibs&hl=en&cites=3817168863160300666', 'cites_id': ['3817168863160300666']}\n",
      "{'container_type': 'Publication', 'source': <PublicationSource.AUTHOR_PUBLICATION_ENTRY: 'AUTHOR_PUBLICATION_ENTRY'>, 'bib': {'title': 'Safety and acceptability of thermal ablation for treatment of human papillomavirus among women living with HIV in Western Kenya', 'pub_year': '2020', 'citation': 'JCO global oncology 6, 1024-1033, 2020'}, 'filled': False, 'author_pub_id': 'Gp1EC6cAAAAJ:UeHWp8X0CEIC', 'num_citations': 15, 'citedby_url': 'https://scholar.google.com/scholar?oi=bibs&hl=en&cites=13919924630053795381', 'cites_id': ['13919924630053795381']}\n",
      "{'container_type': 'Publication', 'source': <PublicationSource.AUTHOR_PUBLICATION_ENTRY: 'AUTHOR_PUBLICATION_ENTRY'>, 'bib': {'title': 'Feasibility and acceptability of smartphone-based cervical cancer screening among HIV-positive women in Western Kenya', 'pub_year': '2021', 'citation': 'JCO global oncology 7, 686-693, 2021'}, 'filled': False, 'author_pub_id': 'Gp1EC6cAAAAJ:Tyk-4Ss8FVUC', 'num_citations': 14, 'citedby_url': 'https://scholar.google.com/scholar?oi=bibs&hl=en&cites=3934447353090227168', 'cites_id': ['3934447353090227168']}\n",
      "{'container_type': 'Publication', 'source': <PublicationSource.AUTHOR_PUBLICATION_ENTRY: 'AUTHOR_PUBLICATION_ENTRY'>, 'bib': {'title': 'Menstrual cups and sanitary pads to reduce school attrition, and sexually transmitted and reproductive tract infections: a cluster randomised controlled feasibility study in …', 'pub_year': '2016', 'citation': ''}, 'filled': False, 'author_pub_id': 'Gp1EC6cAAAAJ:UebtZRa9Y70C', 'num_citations': 5, 'citedby_url': 'https://scholar.google.com/scholar?oi=bibs&hl=en&cites=1983674495856054566', 'cites_id': ['1983674495856054566']}\n",
      "{'container_type': 'Publication', 'source': <PublicationSource.AUTHOR_PUBLICATION_ENTRY: 'AUTHOR_PUBLICATION_ENTRY'>, 'bib': {'title': '“There is nothing that can prevent me from supporting her:” Men’s perspectives on their involvement and support of women’s use of topical therapy for cervical precancer …', 'pub_year': '2024', 'citation': 'Frontiers in Oncology 14, 1360337, 2024'}, 'filled': False, 'author_pub_id': 'Gp1EC6cAAAAJ:Se3iqnhoufwC', 'num_citations': 3, 'citedby_url': 'https://scholar.google.com/scholar?oi=bibs&hl=en&cites=9628112160768860764', 'cites_id': ['9628112160768860764']}\n",
      "{'container_type': 'Publication', 'source': <PublicationSource.AUTHOR_PUBLICATION_ENTRY: 'AUTHOR_PUBLICATION_ENTRY'>, 'bib': {'title': 'Efficacy of thermal ablation for treatment of biopsy‐confirmed high‐grade cervical precancer among women living with HIV in Kenya', 'pub_year': '2023', 'citation': 'International Journal of Cancer 153 (12), 1971-1977, 2023'}, 'filled': False, 'author_pub_id': 'Gp1EC6cAAAAJ:LkGwnXOMwfcC', 'num_citations': 3, 'citedby_url': 'https://scholar.google.com/scholar?oi=bibs&hl=en&cites=17692791472464119972', 'cites_id': ['17692791472464119972']}\n",
      "{'container_type': 'Publication', 'source': <PublicationSource.AUTHOR_PUBLICATION_ENTRY: 'AUTHOR_PUBLICATION_ENTRY'>, 'bib': {'title': 'Feasibility of adjuvant self-administered intravaginal 5-fluorouracil cream following primary treatment of cervical intraepithelial neoplasia grade 2 or 3 among women living …', 'pub_year': '2023', 'citation': 'medRxiv, 2023'}, 'filled': False, 'author_pub_id': 'Gp1EC6cAAAAJ:roLk4NBRz8UC', 'num_citations': 2, 'citedby_url': 'https://scholar.google.com/scholar?oi=bibs&hl=en&cites=17753068803023510684', 'cites_id': ['17753068803023510684']}\n",
      "{'container_type': 'Publication', 'source': <PublicationSource.AUTHOR_PUBLICATION_ENTRY: 'AUTHOR_PUBLICATION_ENTRY'>, 'bib': {'title': 'Efficacy of thermal ablation for treatment of high-grade cervical dysplasia among HIV-positive women: preliminary results from western Kenya', 'pub_year': '2022', 'citation': 'JCO Global Oncology 8 (Supplement_1), 34-34, 2022'}, 'filled': False, 'author_pub_id': 'Gp1EC6cAAAAJ:YsMSGLbcyi4C', 'num_citations': 1, 'citedby_url': 'https://scholar.google.com/scholar?oi=bibs&hl=en&cites=13077311724947350460', 'cites_id': ['13077311724947350460']}\n",
      "{'container_type': 'Publication', 'source': <PublicationSource.AUTHOR_PUBLICATION_ENTRY: 'AUTHOR_PUBLICATION_ENTRY'>, 'bib': {'title': 'Safety and adherence to self-administered intravaginal 5-fluorouracil cream following cervical intraepithelial neoplasia (CIN) 2/3 treatment among HIV-positive women in Kenya …', 'pub_year': '2024', 'citation': 'medRxiv, 2024'}, 'filled': False, 'author_pub_id': 'Gp1EC6cAAAAJ:5nxA0vEk-isC', 'num_citations': 0}\n",
      "{'container_type': 'Publication', 'source': <PublicationSource.AUTHOR_PUBLICATION_ENTRY: 'AUTHOR_PUBLICATION_ENTRY'>, 'bib': {'title': '“ARVs is for HIV and cream is for HPV or precancer:” Women’s Perceptions and Perceived Acceptability of Self-Administered Topical Therapies for Cervical Precancer Treatment: A …', 'pub_year': '2024', 'citation': 'medRxiv, 2024'}, 'filled': False, 'author_pub_id': 'Gp1EC6cAAAAJ:0EnyYjriUFMC', 'num_citations': 0}\n",
      "{'container_type': 'Publication', 'source': <PublicationSource.AUTHOR_PUBLICATION_ENTRY: 'AUTHOR_PUBLICATION_ENTRY'>, 'bib': {'title': 'Perceived acceptability of self-administered topical therapy for cervical precancer treatment among women undergoing cervical cancer screening in Kenya', 'pub_year': '2024', 'citation': 'medRxiv, 2024'}, 'filled': False, 'author_pub_id': 'Gp1EC6cAAAAJ:hqOjcs7Dif8C', 'num_citations': 0}\n",
      "{'container_type': 'Publication', 'source': <PublicationSource.AUTHOR_PUBLICATION_ENTRY: 'AUTHOR_PUBLICATION_ENTRY'>, 'bib': {'title': 'Phase I study on the pharmacokinetics of intravaginal, self-administered artesunate vaginal pessaries among women in Kenya.', 'pub_year': '2024', 'citation': 'medRxiv, 2024.07. 08.24309596, 2024'}, 'filled': False, 'author_pub_id': 'Gp1EC6cAAAAJ:MXK_kJrjxJIC', 'num_citations': 0}\n",
      "{'container_type': 'Publication', 'source': <PublicationSource.AUTHOR_PUBLICATION_ENTRY: 'AUTHOR_PUBLICATION_ENTRY'>, 'bib': {'title': 'Intravaginal artesunate pessaries for treatment of cervical intraepithelial neoplasia 2/3 among HIV-positive and HIV-negative women in Kenya: Study protocol for a pilot trial', 'pub_year': '2024', 'citation': 'medRxiv, 2024.06. 27.24309586, 2024'}, 'filled': False, 'author_pub_id': 'Gp1EC6cAAAAJ:8k81kl-MbHgC', 'num_citations': 0}\n",
      "{'container_type': 'Publication', 'source': <PublicationSource.AUTHOR_PUBLICATION_ENTRY: 'AUTHOR_PUBLICATION_ENTRY'>, 'bib': {'title': 'Development and Initial Validation of a Pictorial Scale to Assess Symptomatic Prolapse and Urinary Incontinence', 'pub_year': '2022', 'citation': 'INTERNATIONAL UROGYNECOLOGY JOURNAL 33 (SUPPL 2), S177-S177, 2022'}, 'filled': False, 'author_pub_id': 'Gp1EC6cAAAAJ:ufrVoPGSRksC', 'num_citations': 0}\n",
      "{'container_type': 'Publication', 'source': <PublicationSource.AUTHOR_PUBLICATION_ENTRY: 'AUTHOR_PUBLICATION_ENTRY'>, 'bib': {'title': 'Development and initial validation of a pictorial survey to assess for symptomatic pelvic organ prolapse and urinary incontinence in western Kenya', 'pub_year': '2022', 'citation': 'International Urogynecology Journal 33 (9), 2515-2523, 2022'}, 'filled': False, 'author_pub_id': 'Gp1EC6cAAAAJ:WF5omc3nYNoC', 'num_citations': 0}\n",
      "{'container_type': 'Publication', 'source': <PublicationSource.AUTHOR_PUBLICATION_ENTRY: 'AUTHOR_PUBLICATION_ENTRY'>, 'bib': {'title': 'Validation of Chloe SED, a Low-Cost, Reusable Syringe Extension Device for the Provision of Paracervical Analgesia [A21]', 'pub_year': '2022', 'citation': 'Obstetrics & Gynecology 139, 7S, 2022'}, 'filled': False, 'author_pub_id': 'Gp1EC6cAAAAJ:eQOLeE2rZwMC', 'num_citations': 0}\n",
      "{'container_type': 'Publication', 'source': <PublicationSource.AUTHOR_PUBLICATION_ENTRY: 'AUTHOR_PUBLICATION_ENTRY'>, 'bib': {'title': '1. Improving Clinical Performance for Caesarean Section through Mobile Obstetric Simulation Training (MOST): A Multicenter Study in Rural Kenya', 'pub_year': '2021', 'citation': 'ANESTHESIA AND ANALGESIA 133 (3 S_ SUPPL), 530-530, 2021'}, 'filled': False, 'author_pub_id': 'Gp1EC6cAAAAJ:W7OEmFMy1HYC', 'num_citations': 0}\n",
      "{'container_type': 'Publication', 'source': <PublicationSource.AUTHOR_PUBLICATION_ENTRY: 'AUTHOR_PUBLICATION_ENTRY'>, 'bib': {'title': 'To Triage or Not? Positive Predictive Value of Visual Inspection with Acetic Acid for Diagnosis of Cervical Intraepithelial Neoplasia Grade 2 or Worse (CIN2+) among HIV …', 'pub_year': '2021', 'citation': 'Cancer Epidemiology, Biomarkers & Prevention 30 (7_Supplement), 69-69, 2021'}, 'filled': False, 'author_pub_id': 'Gp1EC6cAAAAJ:Y0pCki6q_DkC', 'num_citations': 0}\n",
      "{'container_type': 'Publication', 'source': <PublicationSource.AUTHOR_PUBLICATION_ENTRY: 'AUTHOR_PUBLICATION_ENTRY'>, 'bib': {'title': 'Toward Cervical Cancer Elimination: Evaluation of Access to Diagnostic Services After Referral to a Specialist Gynecologist Clinic at a Major Referral Hospital in Kisumu, Kenya', 'pub_year': '2020', 'citation': 'JCO Global Oncology 6 (Supplement_1), 35-35, 2020'}, 'filled': False, 'author_pub_id': 'Gp1EC6cAAAAJ:IjCSPb-OGe4C', 'num_citations': 0}\n"
     ]
    }
   ],
   "source": [
    "## testing data extraction\n",
    "from scholarly import scholarly\n",
    "\n",
    "search = scholarly.search_author('Jackton Omoto')\n",
    "author = next(search)\n",
    "\n",
    "# print(author)\n",
    "\n",
    "authors = scholarly.fill(author)\n",
    "for publication in authors['publications']:\n",
    "    print(publication)"
   ]
  },
  {
   "cell_type": "markdown",
   "metadata": {},
   "source": [
    "# Transform Author, Publication and Journal Data"
   ]
  },
  {
   "cell_type": "code",
   "execution_count": 6,
   "metadata": {},
   "outputs": [],
   "source": [
    "# get author publications data from RAW folder\n",
    "author_publications_df = pd.read_csv(os.path.join(RAW_DATA_DIR, author_publications))"
   ]
  },
  {
   "cell_type": "code",
   "execution_count": 7,
   "metadata": {},
   "outputs": [
    {
     "data": {
      "text/plain": [
       "0    {'title': 'Guillain-Barré syndrome related to ...\n",
       "1    {'title': 'The chemotherapy-induced peripheral...\n",
       "2    {'title': 'Chemotherapy-induced peripheral neu...\n",
       "3    {'title': 'Clinical pattern and associations o...\n",
       "4    {'title': 'Understanding the quality of life (...\n",
       "Name: bib, dtype: object"
      ]
     },
     "execution_count": 7,
     "metadata": {},
     "output_type": "execute_result"
    }
   ],
   "source": [
    "publications = author_publications_df.loc[:,['investigator','bib','num_citations']]\n",
    "publications['bib'].head()"
   ]
  },
  {
   "cell_type": "code",
   "execution_count": 8,
   "metadata": {},
   "outputs": [],
   "source": [
    "# extract data from the json format in bib column\n",
    "import ast\n",
    "publications['bib'] = publications['bib'] .apply(ast.literal_eval)\n",
    "\n",
    "info_df = pd.json_normalize(publications['bib'])\n",
    "\n",
    "publication_details = pd.concat([publications.drop(columns='bib'),info_df], axis=1)"
   ]
  },
  {
   "cell_type": "markdown",
   "metadata": {},
   "source": [
    "# Create the following tables with the following columns:\n",
    "\n",
    "- Authors  \n",
    "*id*  \n",
    "*name*  \n",
    "*author_title*  \n",
    "*instituition*\n",
    "\n",
    "- Journal  \n",
    "*journal_name*  \n",
    "*country*  \n",
    "*year*  \n",
    "*impactor_factor*\n",
    "\n",
    "- Publication  \n",
    "*publication_title*  \n",
    "*date*  \n",
    "*citations*\n"
   ]
  },
  {
   "cell_type": "code",
   "execution_count": 9,
   "metadata": {},
   "outputs": [
    {
     "name": "stdout",
     "output_type": "stream",
     "text": [
      "['paola alberti', 'kishal lukhna']\n"
     ]
    }
   ],
   "source": [
    "## extract unique authors from the investigator column\n",
    "author_list = publication_details['investigator'].unique().tolist()\n",
    "print(author_list)"
   ]
  },
  {
   "cell_type": "code",
   "execution_count": 10,
   "metadata": {},
   "outputs": [],
   "source": [
    "## Create authors data frame\n",
    "Authors = pd.DataFrame({\n",
    "    'name':author_list,\n",
    "    'author_title': \"nil\",\n",
    "    'institution': \"nil\"\n",
    "})"
   ]
  },
  {
   "cell_type": "code",
   "execution_count": 31,
   "metadata": {},
   "outputs": [],
   "source": [
    "# create journals data frame\n",
    "## extract journal \n",
    "Journals = publication_details.loc[:,['investigator','citation']]\n",
    "Journals = Journals.assign(country = None, year = None, impact_factor = None)\n",
    "\n",
    "# rename journal names\n",
    "Journals.rename(columns={\n",
    "    'investigator':'author',\n",
    "    'citations':'journal_name'}, \n",
    "    inplace= True)"
   ]
  },
  {
   "cell_type": "code",
   "execution_count": 33,
   "metadata": {},
   "outputs": [
    {
     "name": "stderr",
     "output_type": "stream",
     "text": [
      "C:\\Users\\Hp\\AppData\\Local\\Temp\\ipykernel_3572\\1245384555.py:6: FutureWarning: A value is trying to be set on a copy of a DataFrame or Series through chained assignment using an inplace method.\n",
      "The behavior will change in pandas 3.0. This inplace method will never work because the intermediate object on which we are setting values always behaves as a copy.\n",
      "\n",
      "For example, when doing 'df[col].method(value, inplace=True)', try using 'df.method({col: value}, inplace=True)' or df[col] = df[col].method(value) instead, to perform the operation inplace on the original object.\n",
      "\n",
      "\n",
      "  Journals['citation'].replace(r'^\\s*$', np.nan, regex=True, inplace=True)\n"
     ]
    }
   ],
   "source": [
    "# remove everything remain with letters. (will have to review this bit though)\n",
    "Journals['citation'] = Journals['citation'].str.replace(r'[0-9]', '', regex=True)\n",
    "Journals['citation'] = Journals['citation'].str.replace(r'[.,]', '', regex=True)\n",
    "Journals['citation'] = Journals['citation'].str.replace(r'[-]', '', regex=True)\n",
    "Journals['citation'] = Journals['citation'].str.replace(r'[:,\\(\\)]', '', regex=True)\n",
    "Journals['citation'].replace(r'^\\s*$', np.nan, regex=True, inplace=True)"
   ]
  },
  {
   "cell_type": "code",
   "execution_count": 35,
   "metadata": {},
   "outputs": [],
   "source": [
    "# Fill missing values in the Journals table\n",
    "Journals.fillna({'citation':'Data_not_available'}, inplace=True)\n",
    "Journals.fillna({'impact_factor':0}, inplace=True)\n",
    "Journals.fillna({'year':0}, inplace=True)"
   ]
  },
  {
   "cell_type": "code",
   "execution_count": 22,
   "metadata": {},
   "outputs": [],
   "source": [
    "Journals['impact_factor'] = Journals['impact_factor'].astype('int64')\n",
    "Journals['year'] = Journals['year'].astype('int64')\n"
   ]
  },
  {
   "cell_type": "code",
   "execution_count": 19,
   "metadata": {},
   "outputs": [],
   "source": [
    "# create publication data frame\n",
    "Publications = publication_details.loc[:,['investigator','title','pub_year','num_citations']]\n",
    "\n",
    "# rename Publication names\n",
    "Publications.rename(columns={\n",
    "    'investigator':'author',\n",
    "    'title' : 'publication_title',\n",
    "    'pub_year':'year',\n",
    "    'num_citations':'citations'}, \n",
    "    inplace= True)"
   ]
  },
  {
   "cell_type": "code",
   "execution_count": 20,
   "metadata": {},
   "outputs": [],
   "source": [
    "# remove periods\n",
    "Publications['publication_title'] = Publications['publication_title'].str.replace(r'[0-9]', '', regex=True)\n",
    "Publications['publication_title'] = Publications['publication_title'].str.replace(r'[.,]', '', regex=True)\n",
    "Publications['publication_title'] = Publications['publication_title'].str.replace(r'[-]', '', regex=True)\n"
   ]
  },
  {
   "cell_type": "code",
   "execution_count": 39,
   "metadata": {},
   "outputs": [],
   "source": [
    "# def truncate_to_five_words(text):\n",
    "#     words = text.split()\n",
    "#     return ' '.join(words[:5])\n",
    "\n",
    "# # Apply this function to the desired column\n",
    "# # Replace 'your_column' with the name of the column you want to process\n",
    "# Publications['publication_title'] = Publications['publication_title'].apply(truncate_to_five_words)"
   ]
  },
  {
   "cell_type": "code",
   "execution_count": 21,
   "metadata": {},
   "outputs": [
    {
     "data": {
      "text/plain": [
       "author               object\n",
       "publication_title    object\n",
       "year                  int64\n",
       "citations             int64\n",
       "dtype: object"
      ]
     },
     "execution_count": 21,
     "metadata": {},
     "output_type": "execute_result"
    }
   ],
   "source": [
    "Publications.fillna({'year': 0 }, inplace=True)\n",
    "Publications['year'] = Publications['year'].astype('int64')\n",
    "\n",
    "Publications['year'] = Publications['year'].astype('int64')\n",
    "Publications.dtypes"
   ]
  },
  {
   "cell_type": "code",
   "execution_count": 36,
   "metadata": {},
   "outputs": [
    {
     "name": "stdout",
     "output_type": "stream",
     "text": [
      "Saved to ✅: c:\\Users\\Hp\\OneDrive\\OLDFILES\\Documents\\PROJECTS\\trials_dashboard\\data\\processed\\model_data\\authors.csv\n",
      "Saved to ✅: c:\\Users\\Hp\\OneDrive\\OLDFILES\\Documents\\PROJECTS\\trials_dashboard\\data\\processed\\model_data\\publications.csv\n",
      "Saved to ✅: c:\\Users\\Hp\\OneDrive\\OLDFILES\\Documents\\PROJECTS\\trials_dashboard\\data\\processed\\model_data\\journals.csv\n"
     ]
    }
   ],
   "source": [
    "## Save to Processed folder\n",
    "save_processed_data(Authors, 'model_data/authors')\n",
    "save_processed_data(Publications, 'model_data/publications')\n",
    "save_processed_data(Journals, 'model_data/journals')"
   ]
  },
  {
   "cell_type": "markdown",
   "metadata": {},
   "source": [
    "VISUALIZE TABLES"
   ]
  },
  {
   "cell_type": "markdown",
   "metadata": {},
   "source": [
    "Journals"
   ]
  }
 ],
 "metadata": {
  "kernelspec": {
   "display_name": "Python 3",
   "language": "python",
   "name": "python3"
  },
  "language_info": {
   "codemirror_mode": {
    "name": "ipython",
    "version": 3
   },
   "file_extension": ".py",
   "mimetype": "text/x-python",
   "name": "python",
   "nbconvert_exporter": "python",
   "pygments_lexer": "ipython3",
   "version": "3.9.6"
  }
 },
 "nbformat": 4,
 "nbformat_minor": 2
}
